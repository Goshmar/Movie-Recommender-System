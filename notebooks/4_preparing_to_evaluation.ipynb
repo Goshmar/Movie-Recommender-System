{
  "nbformat": 4,
  "nbformat_minor": 0,
  "metadata": {
    "colab": {
      "provenance": [],
      "gpuType": "T4"
    },
    "kernelspec": {
      "name": "python3",
      "display_name": "Python 3"
    },
    "language_info": {
      "name": "python"
    },
    "accelerator": "GPU"
  },
  "cells": [
    {
      "cell_type": "code",
      "source": [
        "import os\n",
        "\n",
        "repo_dir = \"Movie-Recommender-System\"\n",
        "\n",
        "if os.path.exists(repo_dir):\n",
        "    print(f\"{repo_dir} already exists. Removing it...\\n\")\n",
        "    !rm -r {repo_dir}\n",
        "\n",
        "# Clone the repository from GitHub\n",
        "!git clone https://github.com/Goshmar/Movie-Recommender-System"
      ],
      "metadata": {
        "colab": {
          "base_uri": "https://localhost:8080/"
        },
        "id": "0YnTR-BeTrJ0",
        "outputId": "58763be5-abc9-4c40-aa9d-b31e0a83c82a"
      },
      "execution_count": 1,
      "outputs": [
        {
          "output_type": "stream",
          "name": "stdout",
          "text": [
            "Cloning into 'Movie-Recommender-System'...\n",
            "remote: Enumerating objects: 44, done.\u001b[K\n",
            "remote: Counting objects: 100% (44/44), done.\u001b[K\n",
            "remote: Compressing objects: 100% (41/41), done.\u001b[K\n",
            "remote: Total 44 (delta 12), reused 0 (delta 0), pack-reused 0\u001b[K\n",
            "Receiving objects: 100% (44/44), 6.68 MiB | 11.31 MiB/s, done.\n",
            "Resolving deltas: 100% (12/12), done.\n"
          ]
        }
      ]
    },
    {
      "cell_type": "code",
      "source": [
        "import requests\n",
        "import zipfile\n",
        "import pandas as pd\n",
        "import numpy as np\n",
        "\n",
        "# Define the paths\n",
        "zip_file_path = \"/content/Movie-Recommender-System/data/raw/ml-100k.zip\"\n",
        "\n",
        "with zipfile.ZipFile(zip_file_path, 'r') as zip_ref:\n",
        "    zip_ref.extractall(\".\")\n",
        "\n",
        "# ZIP cleaning up\n",
        "os.remove(zip_file_path)"
      ],
      "metadata": {
        "id": "Sw3VKaFrT6_O"
      },
      "execution_count": 2,
      "outputs": []
    },
    {
      "cell_type": "code",
      "source": [
        "from scipy.sparse import load_npz\n",
        "\n",
        "# Download data\n",
        "data_matrix = load_npz('/content/Movie-Recommender-System/data/interim/data_matrix.npz')\n",
        "rating_matrix = pd.read_csv(\"/content/Movie-Recommender-System/data/interim/rating_matrix.csv\")\n",
        "feature_matrix = pd.read_csv(\"/content/Movie-Recommender-System/data/interim/feature_matrix.csv\")\n",
        "item_info = pd.read_csv('/content/ml-100k/u.item', sep='|', encoding='latin-1', names=['movie_id', 'movie_title', 'release_date', 'video_release_date', 'IMDB_URL', 'unknown', 'Action', 'Adventure', 'Animation', 'Children', 'Comedy', 'Crime', 'Documentary', 'Drama', 'Fantasy', 'Film-Noir', 'Horror', 'Musical', 'Mystery', 'Romance', 'Sci-Fi', 'Thriller', 'War', 'Western'])"
      ],
      "metadata": {
        "id": "c6EPc4bVe-I7"
      },
      "execution_count": 5,
      "outputs": []
    },
    {
      "cell_type": "code",
      "source": [
        "# ========== SVD Model ==========\n",
        "from scipy.sparse.linalg import svds\n",
        "U, S, Vt = svds(data_matrix, k=50, return_singular_vectors='vh')"
      ],
      "metadata": {
        "id": "kYmAmYiipks0"
      },
      "execution_count": 7,
      "outputs": []
    },
    {
      "cell_type": "code",
      "source": [
        "# Evaluating title\n",
        "val_title = \"Lord of Illusions\"\n",
        "\n",
        "matching_rows = item_info.loc[item_info.movie_title.str.contains(val_title, flags=2)]\n",
        "\n",
        "# Check if there are any matching rows\n",
        "matching_index = matching_rows.index[0] if not matching_rows.empty else None\n",
        "print(f'Matching index: {matching_index} for {val_title}')\n",
        "\n",
        "rec_svd = item_info.iloc[np.argsort(-Vt.T @ Vt[:, matching_index])[1:11]][['movie_id', 'movie_title']]\n",
        "\n",
        "# Create a DataFrame with the selected rows\n",
        "rec_svd_df = pd.DataFrame({\n",
        "    'movie_id': rec_svd['movie_id'],\n",
        "    'movie_title': rec_svd['movie_title']\n",
        "})\n",
        "\n",
        "# Save the DataFrame to a CSV file\n",
        "rec_svd_df.to_csv(f'rec_svd_df_{val_title}.csv', index=False)"
      ],
      "metadata": {
        "colab": {
          "base_uri": "https://localhost:8080/"
        },
        "id": "DnQkjF6xmziI",
        "outputId": "eb68841b-98c3-4354-be5f-e63e2f35b72c"
      },
      "execution_count": 28,
      "outputs": [
        {
          "output_type": "stream",
          "name": "stdout",
          "text": [
            "Matching index: 550 for Lord of Illusions\n"
          ]
        }
      ]
    },
    {
      "cell_type": "code",
      "source": [
        "from scipy.sparse.linalg import spsolve_triangular\n",
        "from scipy.sparse import csr_matrix\n",
        "\n",
        "# ========== Hybrid Model ==========\n",
        "\n",
        "# Calculate SVD for the rating matrix\n",
        "u, s, vt = np.linalg.svd(rating_matrix.values, full_matrices=False)\n",
        "v = vt.T[:, :50]\n",
        "\n",
        "# Item similarity matrix\n",
        "d = 0.5  # off-diagonal similarity factor\n",
        "item_similarity_matrix = np.eye(feature_matrix.shape[1])\n",
        "item_similarity_matrix[-1, -3] = d\n",
        "item_similarity_matrix[-3, -1] = d\n",
        "\n",
        "# Finding Cholesky factors\n",
        "L = np.linalg.cholesky(item_similarity_matrix)\n",
        "\n",
        "# Update this line to match the shape of the feature matrix\n",
        "u2, s2, v2 = np.linalg.svd(np.dot(feature_matrix.values, L), full_matrices=False)\n",
        "v2 = v2.T[:, :50]"
      ],
      "metadata": {
        "id": "3Q7HxCrV2l0b"
      },
      "execution_count": 29,
      "outputs": []
    },
    {
      "cell_type": "code",
      "source": [
        "# Recommendations for the user with the hybrid model\n",
        "rv = spsolve_triangular(csr_matrix(L.T), v2, lower=False)\n",
        "\n",
        "# Extract top N recommendations\n",
        "top_n_hybrid = np.argsort(-np.dot(feature_matrix.values, np.dot(L, v2)).dot(rv.T))[0][:10]\n",
        "\n",
        "# Create a list of dictionaries for the recommendations\n",
        "recommendations_data = []\n",
        "for i, idx in enumerate(top_n_hybrid):\n",
        "    movie_id = item_info.iloc[idx]['movie_id']\n",
        "    movie_title = item_info.iloc[idx]['movie_title']\n",
        "    recommendations_data.append({\n",
        "        'movie_id': movie_id,\n",
        "        'movie_title': movie_title\n",
        "    })\n",
        "\n",
        "# Convert the list of dictionaries to a DataFrame\n",
        "rec_hybrid_svd = pd.DataFrame(recommendations_data)\n",
        "\n",
        "# Save the DataFrame to a CSV file\n",
        "rec_hybrid_svd.to_csv(f'rec_hybrid_svd_df_{val_title}.csv', index=False)"
      ],
      "metadata": {
        "id": "tutv8Ac5OrLZ"
      },
      "execution_count": 30,
      "outputs": []
    }
  ]
}